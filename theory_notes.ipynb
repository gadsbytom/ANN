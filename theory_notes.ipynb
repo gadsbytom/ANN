{
 "metadata": {
  "language_info": {
   "codemirror_mode": {
    "name": "ipython",
    "version": 3
   },
   "file_extension": ".py",
   "mimetype": "text/x-python",
   "name": "python",
   "nbconvert_exporter": "python",
   "pygments_lexer": "ipython3",
   "version": 3
  },
  "orig_nbformat": 2
 },
 "nbformat": 4,
 "nbformat_minor": 2,
 "cells": [
  {
   "cell_type": "code",
   "execution_count": null,
   "metadata": {},
   "outputs": [],
   "source": [
    "    #notes on teh chain rule in backprop\n",
    "    \n",
    "    #derivative of the bias neurons is different from deriv of the activation neurons, so thats why we remove them in the backprop function\n",
    "    #chain rule numerator - the thing we're monitoring for change, demonenator - the thing we're changing"
   ]
  }
 ]
}