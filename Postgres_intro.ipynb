{
 "cells": [
  {
   "cell_type": "code",
   "execution_count": null,
   "metadata": {},
   "outputs": [],
   "source": [
    "uses for databases"
   ]
  },
  {
   "cell_type": "code",
   "execution_count": null,
   "metadata": {},
   "outputs": [],
   "source": []
  },
  {
   "cell_type": "code",
   "execution_count": null,
   "metadata": {},
   "outputs": [],
   "source": [
    "types of db"
   ]
  },
  {
   "cell_type": "code",
   "execution_count": null,
   "metadata": {},
   "outputs": [],
   "source": [
    "Oracle\n",
    "PostGres\n",
    "MySQL\n",
    "Sqlite\n",
    "MongoDB\n",
    "Redis\n",
    "Neo4j\n",
    "ElasticSearch\n",
    "Dask\n",
    "Spark\n",
    "Hadoop\n",
    "Airflow"
   ]
  },
  {
   "cell_type": "code",
   "execution_count": null,
   "metadata": {},
   "outputs": [],
   "source": [
    "db structure\n",
    "* create a db\n",
    "* schema\n",
    "* table structure - modelling in relational tables\n",
    "* create a table\n",
    "* data types\n",
    "* constraints - not null, primary keys / foreign keys\n",
    "* indexes"
   ]
  },
  {
   "cell_type": "markdown",
   "metadata": {},
   "source": [
    "db usage\n",
    "CRUD\n",
    "* Create\n",
    "* Read\n",
    "* Update \n",
    "* Delete"
   ]
  },
  {
   "cell_type": "markdown",
   "metadata": {},
   "source": [
    "* Read\n",
    "* Update\n",
    "* Create\n",
    "* Delete"
   ]
  },
  {
   "cell_type": "markdown",
   "metadata": {},
   "source": [
    "---"
   ]
  },
  {
   "cell_type": "code",
   "execution_count": null,
   "metadata": {},
   "outputs": [],
   "source": [
    "#create a db\n",
    "CREATE DATABASE dbname ;"
   ]
  },
  {
   "cell_type": "code",
   "execution_count": null,
   "metadata": {},
   "outputs": [],
   "source": [
    "schmea \n",
    "* group together logical tables\n",
    "* password protect similar tables"
   ]
  },
  {
   "cell_type": "code",
   "execution_count": null,
   "metadata": {},
   "outputs": [],
   "source": [
    "table\n",
    "* logical collection of information\n",
    "* rows = data points\n",
    "* columns = features"
   ]
  },
  {
   "cell_type": "code",
   "execution_count": null,
   "metadata": {},
   "outputs": [],
   "source": [
    "#create tables\n",
    "CREATE TABLE dummy (\n",
    "    name TEXT ,\n",
    "    os TEXT,\n",
    "    weeks INT,\n",
    "    best_accuracy NUMERIC\n",
    ");"
   ]
  },
  {
   "cell_type": "code",
   "execution_count": null,
   "metadata": {},
   "outputs": [],
   "source": [
    "#data types\n",
    "* BOOL,\n",
    "* TEXT, CHAR(n), VARCHAR(n)\n",
    "* INT, SMALLINT\n",
    "* NUMERIC, REAL, FLOAT(n)\n",
    "* TIMESTAMP, DATE, TIME\n",
    "... others"
   ]
  },
  {
   "cell_type": "code",
   "execution_count": null,
   "metadata": {},
   "outputs": [],
   "source": [
    "#constraints\n",
    "* not null\n",
    "* primary key (unique, not null)\n",
    "* foreign key "
   ]
  },
  {
   "cell_type": "code",
   "execution_count": null,
   "metadata": {},
   "outputs": [],
   "source": [
    "#index\n",
    "* primary key - automatic\n",
    "* other indexes - later this week!"
   ]
  },
  {
   "cell_type": "code",
   "execution_count": null,
   "metadata": {},
   "outputs": [],
   "source": [
    "# Read commands\n",
    "Select \n",
    "Aggregate \n",
    "Join \n",
    "Alternatives "
   ]
  },
  {
   "cell_type": "code",
   "execution_count": null,
   "metadata": {},
   "outputs": [],
   "source": [
    "# Update\n",
    "copy\n",
    "alter table \n",
    "Set \n",
    "Insert\n",
    "Update"
   ]
  },
  {
   "cell_type": "code",
   "execution_count": null,
   "metadata": {},
   "outputs": [],
   "source": [
    "COPY table name \n",
    "from 'path' \n",
    "DELIMITER ',' \n",
    "CSV HEADER;"
   ]
  },
  {
   "cell_type": "code",
   "execution_count": 5,
   "metadata": {},
   "outputs": [],
   "source": [
    "import sys\n",
    "import pandas as pd"
   ]
  },
  {
   "cell_type": "code",
   "execution_count": 6,
   "metadata": {},
   "outputs": [
    {
     "data": {
      "text/plain": [
       "67000"
      ]
     },
     "execution_count": 6,
     "metadata": {},
     "output_type": "execute_result"
    }
   ],
   "source": [
    "sys.getsizeof(pd.read_csv('/Users/tom_g/Code/Data/northwind/customers.csv'))"
   ]
  },
  {
   "cell_type": "code",
   "execution_count": 3,
   "metadata": {},
   "outputs": [
    {
     "data": {
      "text/plain": [
       "95"
      ]
     },
     "execution_count": 3,
     "metadata": {},
     "output_type": "execute_result"
    }
   ],
   "source": [
    "sys.getsizeof('/Users/tom_g/Code/Data/northwind/customers.csv')"
   ]
  },
  {
   "cell_type": "code",
   "execution_count": null,
   "metadata": {},
   "outputs": [],
   "source": [
    "#examine database size\n",
    "SELECT pg_size_pretty( pg_total_relation_size('tablename') );"
   ]
  },
  {
   "cell_type": "code",
   "execution_count": 58,
   "metadata": {},
   "outputs": [
    {
     "data": {
      "text/plain": [
       "['customers.csv',\n",
       " 'categories.csv',\n",
       " 'regions.csv',\n",
       " 'products.csv',\n",
       " 'employee_territories.csv',\n",
       " 'orders.csv',\n",
       " 'suppliers.csv',\n",
       " 'README.md',\n",
       " 'shippers.csv',\n",
       " 'territories.csv',\n",
       " 'employees.csv',\n",
       " 'order_details.csv']"
      ]
     },
     "execution_count": 58,
     "metadata": {},
     "output_type": "execute_result"
    }
   ],
   "source": [
    "os.listdir('/Users/tom_g/Code/Data/northwind/') "
   ]
  },
  {
   "cell_type": "code",
   "execution_count": 2,
   "metadata": {},
   "outputs": [],
   "source": [
    "import pandas as pd\n",
    "import os"
   ]
  },
  {
   "cell_type": "code",
   "execution_count": 44,
   "metadata": {},
   "outputs": [],
   "source": [
    "northwind = {file.split('.')[0]:pd.read_csv('/Users/tom_g/Code/Data/northwind/'+file) for file in os.listdir('/Users/tom_g/Code/Data/northwind/') if 'README' not in file}\n"
   ]
  },
  {
   "cell_type": "code",
   "execution_count": 48,
   "metadata": {},
   "outputs": [],
   "source": [
    "table_cols = []\n",
    "for table in list(northwind.keys()):\n",
    "    table_cols.append((table,northwind[table].columns))"
   ]
  },
  {
   "cell_type": "code",
   "execution_count": 59,
   "metadata": {},
   "outputs": [
    {
     "data": {
      "text/html": [
       "<div>\n",
       "<style scoped>\n",
       "    .dataframe tbody tr th:only-of-type {\n",
       "        vertical-align: middle;\n",
       "    }\n",
       "\n",
       "    .dataframe tbody tr th {\n",
       "        vertical-align: top;\n",
       "    }\n",
       "\n",
       "    .dataframe thead th {\n",
       "        text-align: right;\n",
       "    }\n",
       "</style>\n",
       "<table border=\"1\" class=\"dataframe\">\n",
       "  <thead>\n",
       "    <tr style=\"text-align: right;\">\n",
       "      <th></th>\n",
       "      <th>categoryID</th>\n",
       "      <th>categoryName</th>\n",
       "      <th>description</th>\n",
       "      <th>picture</th>\n",
       "    </tr>\n",
       "  </thead>\n",
       "  <tbody>\n",
       "    <tr>\n",
       "      <th>0</th>\n",
       "      <td>1</td>\n",
       "      <td>Beverages</td>\n",
       "      <td>Soft drinks coffees teas beers and ales</td>\n",
       "      <td>0x151C2F00020000000D000E0014002100FFFFFFFF4269...</td>\n",
       "    </tr>\n",
       "    <tr>\n",
       "      <th>1</th>\n",
       "      <td>2</td>\n",
       "      <td>Condiments</td>\n",
       "      <td>Sweet and savory sauces relishes spreads and s...</td>\n",
       "      <td>0x151C2F00020000000D000E0014002100FFFFFFFF4269...</td>\n",
       "    </tr>\n",
       "    <tr>\n",
       "      <th>2</th>\n",
       "      <td>3</td>\n",
       "      <td>Confections</td>\n",
       "      <td>Desserts candies and sweet breads</td>\n",
       "      <td>0x151C2F00020000000D000E0014002100FFFFFFFF4269...</td>\n",
       "    </tr>\n",
       "    <tr>\n",
       "      <th>3</th>\n",
       "      <td>4</td>\n",
       "      <td>Dairy Products</td>\n",
       "      <td>Cheeses</td>\n",
       "      <td>0x151C2F00020000000D000E0014002100FFFFFFFF4269...</td>\n",
       "    </tr>\n",
       "    <tr>\n",
       "      <th>4</th>\n",
       "      <td>5</td>\n",
       "      <td>Grains/Cereals</td>\n",
       "      <td>Breads crackers pasta and cereal</td>\n",
       "      <td>0x151C2F00020000000D000E0014002100FFFFFFFF4269...</td>\n",
       "    </tr>\n",
       "  </tbody>\n",
       "</table>\n",
       "</div>"
      ],
      "text/plain": [
       "   categoryID    categoryName  \\\n",
       "0           1       Beverages   \n",
       "1           2      Condiments   \n",
       "2           3     Confections   \n",
       "3           4  Dairy Products   \n",
       "4           5  Grains/Cereals   \n",
       "\n",
       "                                         description  \\\n",
       "0            Soft drinks coffees teas beers and ales   \n",
       "1  Sweet and savory sauces relishes spreads and s...   \n",
       "2                  Desserts candies and sweet breads   \n",
       "3                                            Cheeses   \n",
       "4                   Breads crackers pasta and cereal   \n",
       "\n",
       "                                             picture  \n",
       "0  0x151C2F00020000000D000E0014002100FFFFFFFF4269...  \n",
       "1  0x151C2F00020000000D000E0014002100FFFFFFFF4269...  \n",
       "2  0x151C2F00020000000D000E0014002100FFFFFFFF4269...  \n",
       "3  0x151C2F00020000000D000E0014002100FFFFFFFF4269...  \n",
       "4  0x151C2F00020000000D000E0014002100FFFFFFFF4269...  "
      ]
     },
     "execution_count": 59,
     "metadata": {},
     "output_type": "execute_result"
    }
   ],
   "source": [
    "northwind['categories'].head()"
   ]
  },
  {
   "cell_type": "code",
   "execution_count": null,
   "metadata": {},
   "outputs": [],
   "source": [
    "create table if not exists customers(\n",
    "customerID text,\n",
    "companyName text,\n",
    "contactName text,\n",
    "contactTitle text, \n",
    "address text,\n",
    "city text,\n",
    "region text,\n",
    "postalCode text,\n",
    "country text,\n",
    "phone text,\n",
    "fax text\n",
    ");"
   ]
  },
  {
   "cell_type": "code",
   "execution_count": 56,
   "metadata": {},
   "outputs": [
    {
     "data": {
      "text/plain": [
       "Index(['customerID', 'companyName', 'contactName', 'contactTitle', 'address',\n",
       "       'city', 'region', 'postalCode', 'country', 'phone', 'fax'],\n",
       "      dtype='object')"
      ]
     },
     "execution_count": 56,
     "metadata": {},
     "output_type": "execute_result"
    }
   ],
   "source": [
    "northwind['customers'].columns"
   ]
  },
  {
   "cell_type": "code",
   "execution_count": 51,
   "metadata": {},
   "outputs": [
    {
     "data": {
      "text/plain": [
       "dict_keys(['customers', 'categories', 'regions', 'products', 'employee_territories', 'orders', 'suppliers', 'shippers', 'territories', 'employees', 'order_details'])"
      ]
     },
     "execution_count": 51,
     "metadata": {},
     "output_type": "execute_result"
    }
   ],
   "source": [
    "northwind.keys()"
   ]
  },
  {
   "cell_type": "markdown",
   "metadata": {},
   "source": [
    "---"
   ]
  },
  {
   "cell_type": "code",
   "execution_count": null,
   "metadata": {},
   "outputs": [],
   "source": [
    "UAT \n",
    "Local constancy or the smoothness prior\n",
    "ML breaks on chessboard predictions \n",
    "manifold - earth vs earth surface"
   ]
  }
 ],
 "metadata": {
  "kernelspec": {
   "display_name": "Python 3",
   "language": "python",
   "name": "python3"
  },
  "language_info": {
   "codemirror_mode": {
    "name": "ipython",
    "version": 3
   },
   "file_extension": ".py",
   "mimetype": "text/x-python",
   "name": "python",
   "nbconvert_exporter": "python",
   "pygments_lexer": "ipython3",
   "version": "3.8.3"
  }
 },
 "nbformat": 4,
 "nbformat_minor": 4
}
